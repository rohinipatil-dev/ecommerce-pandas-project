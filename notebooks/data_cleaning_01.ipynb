{
 "cells": [
  {
   "cell_type": "code",
   "execution_count": null,
   "id": "b2250282-7ecd-414a-98f5-7b93ead34e13",
   "metadata": {},
   "outputs": [],
   "source": [
    "import pandas as pd\n",
    "\n",
    "# Load Data\n",
    "df = pd.read_excel(\"../data/online_retail_data.xlsx\")\n",
    "\n",
    "# Preview\n",
    "df.head()\n",
    "df.info()\n",
    "\n",
    "# Drop rows with missing customer id\n",
    "df = df.dropna(subset=[\"CustomerID\"])\n",
    "\n",
    "# Remove canceled orders (InvoiceNo starts with \"C\")\n",
    "df=df[~df[\"InvoiceNo\"].astype(str).str.startswith(\"C\")]\n",
    "\n",
    "# Add a new column for Total Price\n",
    "df[\"TotatlPrice\"]= df[\"Quantity\"] * df[\"UnitPrice\"]\n",
    "\n",
    "# Convert InvoiceDate to datetime if not already\n",
    "df[\"InvoiceDate\"] = pd.to_datetime(df[\"InvoiceDate\"])\n",
    "\n",
    "# Export cleaned data\n",
    "df.to_csv(\"../outputs/cleaned_data.csv\", index=False)\n"
   ]
  },
  {
   "cell_type": "code",
   "execution_count": null,
   "id": "5028597d-53e3-40b1-b4c2-225e23b4af79",
   "metadata": {},
   "outputs": [],
   "source": [
    "\n"
   ]
  },
  {
   "cell_type": "code",
   "execution_count": null,
   "id": "f23c6d2e-5b11-463a-9eaf-79f090acaa31",
   "metadata": {},
   "outputs": [],
   "source": []
  },
  {
   "cell_type": "code",
   "execution_count": null,
   "id": "d1570ac7-4403-4594-9c4e-7872ec68ff79",
   "metadata": {},
   "outputs": [],
   "source": []
  }
 ],
 "metadata": {
  "kernelspec": {
   "display_name": "Python 3 (ipykernel)",
   "language": "python",
   "name": "python3"
  },
  "language_info": {
   "codemirror_mode": {
    "name": "ipython",
    "version": 3
   },
   "file_extension": ".py",
   "mimetype": "text/x-python",
   "name": "python",
   "nbconvert_exporter": "python",
   "pygments_lexer": "ipython3",
   "version": "3.13.5"
  }
 },
 "nbformat": 4,
 "nbformat_minor": 5
}
