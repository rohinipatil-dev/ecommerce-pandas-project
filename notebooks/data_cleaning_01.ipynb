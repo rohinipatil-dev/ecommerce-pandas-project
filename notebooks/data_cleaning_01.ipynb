{
 "cells": [
  {
   "cell_type": "code",
   "execution_count": 1,
   "id": "b2250282-7ecd-414a-98f5-7b93ead34e13",
   "metadata": {},
   "outputs": [
    {
     "name": "stdout",
     "output_type": "stream",
     "text": [
      "<class 'pandas.core.frame.DataFrame'>\n",
      "RangeIndex: 541909 entries, 0 to 541908\n",
      "Data columns (total 8 columns):\n",
      " #   Column       Non-Null Count   Dtype         \n",
      "---  ------       --------------   -----         \n",
      " 0   InvoiceNo    541909 non-null  object        \n",
      " 1   StockCode    541909 non-null  object        \n",
      " 2   Description  540455 non-null  object        \n",
      " 3   Quantity     541909 non-null  int64         \n",
      " 4   InvoiceDate  541909 non-null  datetime64[ns]\n",
      " 5   UnitPrice    541909 non-null  float64       \n",
      " 6   CustomerID   406829 non-null  float64       \n",
      " 7   Country      541909 non-null  object        \n",
      "dtypes: datetime64[ns](1), float64(2), int64(1), object(4)\n",
      "memory usage: 33.1+ MB\n"
     ]
    }
   ],
   "source": [
    "import pandas as pd\n",
    "\n",
    "# Load Data\n",
    "df = pd.read_excel(\"../data/online_retail_data.xlsx\")\n",
    "\n",
    "# Preview\n",
    "df.head()\n",
    "df.info()\n",
    "\n",
    "# Drop rows with missing customer id\n",
    "df = df.dropna(subset=[\"CustomerID\"])\n",
    "\n",
    "# Remove canceled orders (InvoiceNo starts with \"C\")\n",
    "df=df[~df[\"InvoiceNo\"].astype(str).str.startswith(\"C\")]\n",
    "\n",
    "# Add a new column for Total Price\n",
    "df[\"TotalPrice\"]= df[\"Quantity\"] * df[\"UnitPrice\"]\n",
    "\n",
    "# Convert InvoiceDate to datetime if not already\n",
    "df[\"InvoiceDate\"] = pd.to_datetime(df[\"InvoiceDate\"])\n",
    "\n",
    "# Export cleaned data\n",
    "df.to_csv(\"../outputs/cleaned_data.csv\", index=False)\n"
   ]
  },
  {
   "cell_type": "code",
   "execution_count": null,
   "id": "ccee382e-c9c3-4401-9bb8-99d0aaaf01f7",
   "metadata": {},
   "outputs": [],
   "source": []
  }
 ],
 "metadata": {
  "kernelspec": {
   "display_name": "Python 3 (ipykernel)",
   "language": "python",
   "name": "python3"
  },
  "language_info": {
   "codemirror_mode": {
    "name": "ipython",
    "version": 3
   },
   "file_extension": ".py",
   "mimetype": "text/x-python",
   "name": "python",
   "nbconvert_exporter": "python",
   "pygments_lexer": "ipython3",
   "version": "3.13.5"
  }
 },
 "nbformat": 4,
 "nbformat_minor": 5
}
